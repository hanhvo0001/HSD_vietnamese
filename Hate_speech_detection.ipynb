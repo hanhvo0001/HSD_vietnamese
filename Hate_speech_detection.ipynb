{
  "nbformat": 4,
  "nbformat_minor": 0,
  "metadata": {
    "colab": {
      "name": "Hate_speech_detection",
      "provenance": [],
      "collapsed_sections": [
        "rM-7MydiSTx5",
        "e4HvTWht1JRW",
        "NrLVkBqrpaL5",
        "thTBwcMetBWx",
        "mPVUhNaGs_G9",
        "gpMB69NXucZ3",
        "cNnVWaWfu9Be",
        "GiKThsAjuykM",
        "IQYxYbUvHKWW",
        "JrWHfeErXEv0"
      ],
      "include_colab_link": true
    },
    "kernelspec": {
      "display_name": "Python 3",
      "name": "python3"
    },
    "language_info": {
      "name": "python"
    }
  },
  "cells": [
    {
      "cell_type": "markdown",
      "metadata": {
        "id": "view-in-github",
        "colab_type": "text"
      },
      "source": [
        "<a href=\"https://colab.research.google.com/github/davione112/HateSpeechDetection/blob/main/Hate_speech_detection.ipynb\" target=\"_parent\"><img src=\"https://colab.research.google.com/assets/colab-badge.svg\" alt=\"Open In Colab\"/></a>"
      ]
    },
    {
      "cell_type": "markdown",
      "metadata": {
        "id": "dRTwrfklSQwj"
      },
      "source": [
        "#Library"
      ]
    },
    {
      "cell_type": "code",
      "metadata": {
        "colab": {
          "base_uri": "https://localhost:8080/"
        },
        "id": "vu-hobU4wbmk",
        "outputId": "3791cb8c-4f1a-4a68-cb45-bdf083eacd0c"
      },
      "source": [
        "!pip install emot --upgrade\n",
        "!pip install regex\n",
        "!pip install vncorenlp\n",
        "!pip install datasets\n",
        "!pip install torch\n",
        "!pip install pyvi\n",
        "!pip install transformers==4.9.2\n",
        "!pip install deplacy vncorenlp\n",
        "!test -d VnCoreNLP || git clone --depth=1 https://github.com/vncorenlp/VnCoreNLP"
      ],
      "execution_count": 1,
      "outputs": [
        {
          "output_type": "stream",
          "name": "stdout",
          "text": [
            "Requirement already satisfied: emot in /usr/local/lib/python3.7/dist-packages (3.1)\n",
            "Requirement already satisfied: regex in /usr/local/lib/python3.7/dist-packages (2019.12.20)\n",
            "Requirement already satisfied: vncorenlp in /usr/local/lib/python3.7/dist-packages (1.0.3)\n",
            "Requirement already satisfied: requests in /usr/local/lib/python3.7/dist-packages (from vncorenlp) (2.23.0)\n",
            "Requirement already satisfied: idna<3,>=2.5 in /usr/local/lib/python3.7/dist-packages (from requests->vncorenlp) (2.10)\n",
            "Requirement already satisfied: urllib3!=1.25.0,!=1.25.1,<1.26,>=1.21.1 in /usr/local/lib/python3.7/dist-packages (from requests->vncorenlp) (1.24.3)\n",
            "Requirement already satisfied: certifi>=2017.4.17 in /usr/local/lib/python3.7/dist-packages (from requests->vncorenlp) (2021.5.30)\n",
            "Requirement already satisfied: chardet<4,>=3.0.2 in /usr/local/lib/python3.7/dist-packages (from requests->vncorenlp) (3.0.4)\n",
            "Requirement already satisfied: datasets in /usr/local/lib/python3.7/dist-packages (1.11.0)\n",
            "Requirement already satisfied: dill in /usr/local/lib/python3.7/dist-packages (from datasets) (0.3.4)\n",
            "Requirement already satisfied: huggingface-hub<0.1.0 in /usr/local/lib/python3.7/dist-packages (from datasets) (0.0.12)\n",
            "Requirement already satisfied: multiprocess in /usr/local/lib/python3.7/dist-packages (from datasets) (0.70.12.2)\n",
            "Requirement already satisfied: packaging in /usr/local/lib/python3.7/dist-packages (from datasets) (21.0)\n",
            "Requirement already satisfied: numpy>=1.17 in /usr/local/lib/python3.7/dist-packages (from datasets) (1.19.5)\n",
            "Requirement already satisfied: pyarrow!=4.0.0,>=1.0.0 in /usr/local/lib/python3.7/dist-packages (from datasets) (3.0.0)\n",
            "Requirement already satisfied: importlib-metadata in /usr/local/lib/python3.7/dist-packages (from datasets) (4.6.4)\n",
            "Requirement already satisfied: requests>=2.19.0 in /usr/local/lib/python3.7/dist-packages (from datasets) (2.23.0)\n",
            "Requirement already satisfied: pandas in /usr/local/lib/python3.7/dist-packages (from datasets) (1.1.5)\n",
            "Requirement already satisfied: tqdm>=4.42 in /usr/local/lib/python3.7/dist-packages (from datasets) (4.62.0)\n",
            "Requirement already satisfied: xxhash in /usr/local/lib/python3.7/dist-packages (from datasets) (2.0.2)\n",
            "Requirement already satisfied: fsspec>=2021.05.0 in /usr/local/lib/python3.7/dist-packages (from datasets) (2021.8.1)\n",
            "Requirement already satisfied: filelock in /usr/local/lib/python3.7/dist-packages (from huggingface-hub<0.1.0->datasets) (3.0.12)\n",
            "Requirement already satisfied: typing-extensions in /usr/local/lib/python3.7/dist-packages (from huggingface-hub<0.1.0->datasets) (3.7.4.3)\n",
            "Requirement already satisfied: pyparsing>=2.0.2 in /usr/local/lib/python3.7/dist-packages (from packaging->datasets) (2.4.7)\n",
            "Requirement already satisfied: chardet<4,>=3.0.2 in /usr/local/lib/python3.7/dist-packages (from requests>=2.19.0->datasets) (3.0.4)\n",
            "Requirement already satisfied: certifi>=2017.4.17 in /usr/local/lib/python3.7/dist-packages (from requests>=2.19.0->datasets) (2021.5.30)\n",
            "Requirement already satisfied: idna<3,>=2.5 in /usr/local/lib/python3.7/dist-packages (from requests>=2.19.0->datasets) (2.10)\n",
            "Requirement already satisfied: urllib3!=1.25.0,!=1.25.1,<1.26,>=1.21.1 in /usr/local/lib/python3.7/dist-packages (from requests>=2.19.0->datasets) (1.24.3)\n",
            "Requirement already satisfied: zipp>=0.5 in /usr/local/lib/python3.7/dist-packages (from importlib-metadata->datasets) (3.5.0)\n",
            "Requirement already satisfied: pytz>=2017.2 in /usr/local/lib/python3.7/dist-packages (from pandas->datasets) (2018.9)\n",
            "Requirement already satisfied: python-dateutil>=2.7.3 in /usr/local/lib/python3.7/dist-packages (from pandas->datasets) (2.8.2)\n",
            "Requirement already satisfied: six>=1.5 in /usr/local/lib/python3.7/dist-packages (from python-dateutil>=2.7.3->pandas->datasets) (1.15.0)\n",
            "Requirement already satisfied: torch in /usr/local/lib/python3.7/dist-packages (1.9.0+cu102)\n",
            "Requirement already satisfied: typing-extensions in /usr/local/lib/python3.7/dist-packages (from torch) (3.7.4.3)\n",
            "Requirement already satisfied: pyvi in /usr/local/lib/python3.7/dist-packages (0.1.1)\n",
            "Requirement already satisfied: scikit-learn in /usr/local/lib/python3.7/dist-packages (from pyvi) (0.22.2.post1)\n",
            "Requirement already satisfied: sklearn-crfsuite in /usr/local/lib/python3.7/dist-packages (from pyvi) (0.3.6)\n",
            "Requirement already satisfied: numpy>=1.11.0 in /usr/local/lib/python3.7/dist-packages (from scikit-learn->pyvi) (1.19.5)\n",
            "Requirement already satisfied: scipy>=0.17.0 in /usr/local/lib/python3.7/dist-packages (from scikit-learn->pyvi) (1.4.1)\n",
            "Requirement already satisfied: joblib>=0.11 in /usr/local/lib/python3.7/dist-packages (from scikit-learn->pyvi) (1.0.1)\n",
            "Requirement already satisfied: python-crfsuite>=0.8.3 in /usr/local/lib/python3.7/dist-packages (from sklearn-crfsuite->pyvi) (0.9.7)\n",
            "Requirement already satisfied: tabulate in /usr/local/lib/python3.7/dist-packages (from sklearn-crfsuite->pyvi) (0.8.9)\n",
            "Requirement already satisfied: tqdm>=2.0 in /usr/local/lib/python3.7/dist-packages (from sklearn-crfsuite->pyvi) (4.62.0)\n",
            "Requirement already satisfied: six in /usr/local/lib/python3.7/dist-packages (from sklearn-crfsuite->pyvi) (1.15.0)\n",
            "Requirement already satisfied: transformers==4.9.2 in /usr/local/lib/python3.7/dist-packages (4.9.2)\n",
            "Requirement already satisfied: regex!=2019.12.17 in /usr/local/lib/python3.7/dist-packages (from transformers==4.9.2) (2019.12.20)\n",
            "Requirement already satisfied: filelock in /usr/local/lib/python3.7/dist-packages (from transformers==4.9.2) (3.0.12)\n",
            "Requirement already satisfied: tokenizers<0.11,>=0.10.1 in /usr/local/lib/python3.7/dist-packages (from transformers==4.9.2) (0.10.3)\n",
            "Requirement already satisfied: sacremoses in /usr/local/lib/python3.7/dist-packages (from transformers==4.9.2) (0.0.45)\n",
            "Requirement already satisfied: importlib-metadata in /usr/local/lib/python3.7/dist-packages (from transformers==4.9.2) (4.6.4)\n",
            "Requirement already satisfied: pyyaml>=5.1 in /usr/local/lib/python3.7/dist-packages (from transformers==4.9.2) (5.4.1)\n",
            "Requirement already satisfied: packaging in /usr/local/lib/python3.7/dist-packages (from transformers==4.9.2) (21.0)\n",
            "Requirement already satisfied: huggingface-hub==0.0.12 in /usr/local/lib/python3.7/dist-packages (from transformers==4.9.2) (0.0.12)\n",
            "Requirement already satisfied: numpy>=1.17 in /usr/local/lib/python3.7/dist-packages (from transformers==4.9.2) (1.19.5)\n",
            "Requirement already satisfied: requests in /usr/local/lib/python3.7/dist-packages (from transformers==4.9.2) (2.23.0)\n",
            "Requirement already satisfied: tqdm>=4.27 in /usr/local/lib/python3.7/dist-packages (from transformers==4.9.2) (4.62.0)\n",
            "Requirement already satisfied: typing-extensions in /usr/local/lib/python3.7/dist-packages (from huggingface-hub==0.0.12->transformers==4.9.2) (3.7.4.3)\n",
            "Requirement already satisfied: pyparsing>=2.0.2 in /usr/local/lib/python3.7/dist-packages (from packaging->transformers==4.9.2) (2.4.7)\n",
            "Requirement already satisfied: zipp>=0.5 in /usr/local/lib/python3.7/dist-packages (from importlib-metadata->transformers==4.9.2) (3.5.0)\n",
            "Requirement already satisfied: chardet<4,>=3.0.2 in /usr/local/lib/python3.7/dist-packages (from requests->transformers==4.9.2) (3.0.4)\n",
            "Requirement already satisfied: urllib3!=1.25.0,!=1.25.1,<1.26,>=1.21.1 in /usr/local/lib/python3.7/dist-packages (from requests->transformers==4.9.2) (1.24.3)\n",
            "Requirement already satisfied: certifi>=2017.4.17 in /usr/local/lib/python3.7/dist-packages (from requests->transformers==4.9.2) (2021.5.30)\n",
            "Requirement already satisfied: idna<3,>=2.5 in /usr/local/lib/python3.7/dist-packages (from requests->transformers==4.9.2) (2.10)\n",
            "Requirement already satisfied: six in /usr/local/lib/python3.7/dist-packages (from sacremoses->transformers==4.9.2) (1.15.0)\n",
            "Requirement already satisfied: click in /usr/local/lib/python3.7/dist-packages (from sacremoses->transformers==4.9.2) (7.1.2)\n",
            "Requirement already satisfied: joblib in /usr/local/lib/python3.7/dist-packages (from sacremoses->transformers==4.9.2) (1.0.1)\n",
            "Requirement already satisfied: deplacy in /usr/local/lib/python3.7/dist-packages (2.0.0)\n",
            "Requirement already satisfied: vncorenlp in /usr/local/lib/python3.7/dist-packages (1.0.3)\n",
            "Requirement already satisfied: requests in /usr/local/lib/python3.7/dist-packages (from vncorenlp) (2.23.0)\n",
            "Requirement already satisfied: urllib3!=1.25.0,!=1.25.1,<1.26,>=1.21.1 in /usr/local/lib/python3.7/dist-packages (from requests->vncorenlp) (1.24.3)\n",
            "Requirement already satisfied: idna<3,>=2.5 in /usr/local/lib/python3.7/dist-packages (from requests->vncorenlp) (2.10)\n",
            "Requirement already satisfied: chardet<4,>=3.0.2 in /usr/local/lib/python3.7/dist-packages (from requests->vncorenlp) (3.0.4)\n",
            "Requirement already satisfied: certifi>=2017.4.17 in /usr/local/lib/python3.7/dist-packages (from requests->vncorenlp) (2021.5.30)\n"
          ]
        }
      ]
    },
    {
      "cell_type": "code",
      "metadata": {
        "id": "Fw1wOQqphjFw",
        "colab": {
          "base_uri": "https://localhost:8080/"
        },
        "outputId": "41170084-9ee9-420b-f890-444f05fbc314"
      },
      "source": [
        "!mkdir -p vncorenlp/models/wordsegmenter\n",
        "!wget https://raw.githubusercontent.com/vncorenlp/VnCoreNLP/master/VnCoreNLP-1.1.1.jar\n",
        "!wget https://raw.githubusercontent.com/vncorenlp/VnCoreNLP/master/models/wordsegmenter/vi-vocab\n",
        "!wget https://raw.githubusercontent.com/vncorenlp/VnCoreNLP/master/models/wordsegmenter/wordsegmenter.rdr\n",
        "!mv VnCoreNLP-1.1.1.jar vncorenlp/\n",
        "!mv vi-vocab vncorenlp/models/wordsegmenter/\n",
        "!mv wordsegmenter.rdr vncorenlp/models/wordsegmenter/"
      ],
      "execution_count": 2,
      "outputs": [
        {
          "output_type": "stream",
          "name": "stdout",
          "text": [
            "--2021-09-07 15:24:00--  https://raw.githubusercontent.com/vncorenlp/VnCoreNLP/master/VnCoreNLP-1.1.1.jar\n",
            "Resolving raw.githubusercontent.com (raw.githubusercontent.com)... 185.199.110.133, 185.199.108.133, 185.199.111.133, ...\n",
            "Connecting to raw.githubusercontent.com (raw.githubusercontent.com)|185.199.110.133|:443... connected.\n",
            "HTTP request sent, awaiting response... 200 OK\n",
            "Length: 27412575 (26M) [application/octet-stream]\n",
            "Saving to: ‘VnCoreNLP-1.1.1.jar’\n",
            "\n",
            "VnCoreNLP-1.1.1.jar 100%[===================>]  26.14M  --.-KB/s    in 0.1s    \n",
            "\n",
            "2021-09-07 15:24:01 (216 MB/s) - ‘VnCoreNLP-1.1.1.jar’ saved [27412575/27412575]\n",
            "\n",
            "--2021-09-07 15:24:01--  https://raw.githubusercontent.com/vncorenlp/VnCoreNLP/master/models/wordsegmenter/vi-vocab\n",
            "Resolving raw.githubusercontent.com (raw.githubusercontent.com)... 185.199.108.133, 185.199.110.133, 185.199.111.133, ...\n",
            "Connecting to raw.githubusercontent.com (raw.githubusercontent.com)|185.199.108.133|:443... connected.\n",
            "HTTP request sent, awaiting response... 200 OK\n",
            "Length: 526544 (514K) [application/octet-stream]\n",
            "Saving to: ‘vi-vocab’\n",
            "\n",
            "vi-vocab            100%[===================>] 514.20K  --.-KB/s    in 0.02s   \n",
            "\n",
            "2021-09-07 15:24:01 (31.0 MB/s) - ‘vi-vocab’ saved [526544/526544]\n",
            "\n",
            "--2021-09-07 15:24:01--  https://raw.githubusercontent.com/vncorenlp/VnCoreNLP/master/models/wordsegmenter/wordsegmenter.rdr\n",
            "Resolving raw.githubusercontent.com (raw.githubusercontent.com)... 185.199.108.133, 185.199.110.133, 185.199.111.133, ...\n",
            "Connecting to raw.githubusercontent.com (raw.githubusercontent.com)|185.199.108.133|:443... connected.\n",
            "HTTP request sent, awaiting response... 200 OK\n",
            "Length: 128508 (125K) [text/plain]\n",
            "Saving to: ‘wordsegmenter.rdr’\n",
            "\n",
            "wordsegmenter.rdr   100%[===================>] 125.50K  --.-KB/s    in 0.01s   \n",
            "\n",
            "2021-09-07 15:24:01 (10.3 MB/s) - ‘wordsegmenter.rdr’ saved [128508/128508]\n",
            "\n"
          ]
        }
      ]
    },
    {
      "cell_type": "code",
      "metadata": {
        "id": "9Qpr6Hp8bhdI",
        "colab": {
          "base_uri": "https://localhost:8080/"
        },
        "outputId": "a816451f-4dcc-477c-f3ff-fa36b135a0e5"
      },
      "source": [
        "import pandas as pd\n",
        "import numpy as np\n",
        "import seaborn as sns\n",
        "import matplotlib.pyplot as plt\n",
        "from transformers import BertTokenizer, BertModel,Trainer, TrainingArguments,AutoModelForSequenceClassification,DataCollatorWithPadding\n",
        "from sklearn.metrics import accuracy_score, recall_score, precision_score, f1_score\n",
        "from transformers.trainer_callback import EarlyStoppingCallback\n",
        "from sklearn.metrics import confusion_matrix, accuracy_score, recall_score, precision_score, f1_score, classification_report\n",
        "from itertools import groupby\n",
        "import torch\n",
        "import regex as re\n",
        "from emot.emo_unicode import UNICODE_EMOJI, EMOTICONS_EMO \n",
        "from vncorenlp import VnCoreNLP\n",
        "from sklearn.feature_extraction.text import TfidfVectorizer\n",
        "from sklearn import svm\n",
        "from pyvi import ViTokenizer, ViPosTagger,ViUtils\n",
        "from sklearn.linear_model import LogisticRegression\n",
        "vncorenlp = VnCoreNLP(\"vncorenlp/VnCoreNLP-1.1.1.jar\", annotators=\"wseg\", max_heap_size='-Xmx500m') \n",
        "%cd /content/drive/MyDrive/hate_speech_detection"
      ],
      "execution_count": 3,
      "outputs": [
        {
          "output_type": "stream",
          "name": "stdout",
          "text": [
            "/content/drive/MyDrive/hate_speech_detection\n"
          ]
        }
      ]
    },
    {
      "cell_type": "markdown",
      "metadata": {
        "id": "rM-7MydiSTx5"
      },
      "source": [
        "#Data Loader"
      ]
    },
    {
      "cell_type": "code",
      "metadata": {
        "id": "VyuDOX3nc4iN"
      },
      "source": [
        "train = pd.read_csv(\"vihsd/vihsd/train.csv\",index_col=False)\n",
        "test = pd.read_csv(\"vihsd/vihsd/test.csv\",index_col=False)\n",
        "dev = pd.read_csv(\"vihsd/vihsd/dev.csv\",index_col=False)"
      ],
      "execution_count": 4,
      "outputs": []
    },
    {
      "cell_type": "code",
      "metadata": {
        "id": "WfRv2FLA425j",
        "colab": {
          "base_uri": "https://localhost:8080/",
          "height": 206
        },
        "outputId": "4934b902-ad05-4d72-c80e-bc3ed9b2de92"
      },
      "source": [
        "train.head(5)"
      ],
      "execution_count": 5,
      "outputs": [
        {
          "output_type": "execute_result",
          "data": {
            "text/html": [
              "<div>\n",
              "<style scoped>\n",
              "    .dataframe tbody tr th:only-of-type {\n",
              "        vertical-align: middle;\n",
              "    }\n",
              "\n",
              "    .dataframe tbody tr th {\n",
              "        vertical-align: top;\n",
              "    }\n",
              "\n",
              "    .dataframe thead th {\n",
              "        text-align: right;\n",
              "    }\n",
              "</style>\n",
              "<table border=\"1\" class=\"dataframe\">\n",
              "  <thead>\n",
              "    <tr style=\"text-align: right;\">\n",
              "      <th></th>\n",
              "      <th>free_text</th>\n",
              "      <th>label_id</th>\n",
              "    </tr>\n",
              "  </thead>\n",
              "  <tbody>\n",
              "    <tr>\n",
              "      <th>0</th>\n",
              "      <td>Em được làm fan cứng luôn rồi nè ❤️ reaction q...</td>\n",
              "      <td>0</td>\n",
              "    </tr>\n",
              "    <tr>\n",
              "      <th>1</th>\n",
              "      <td>Đúng là bọn mắt híp lò xo thụt :))) bên việt n...</td>\n",
              "      <td>2</td>\n",
              "    </tr>\n",
              "    <tr>\n",
              "      <th>2</th>\n",
              "      <td>Đậu Văn Cường giờ giống thằng sida hơn à</td>\n",
              "      <td>0</td>\n",
              "    </tr>\n",
              "    <tr>\n",
              "      <th>3</th>\n",
              "      <td>CÔN ĐỒ CỤC SÚC VÔ NHÂN TÍNH ĐỀ NGHI VN. NHÀ NƯ...</td>\n",
              "      <td>2</td>\n",
              "    </tr>\n",
              "    <tr>\n",
              "      <th>4</th>\n",
              "      <td>Từ lý thuyết đến thực hành là cả 1 câu chuyện ...</td>\n",
              "      <td>0</td>\n",
              "    </tr>\n",
              "  </tbody>\n",
              "</table>\n",
              "</div>"
            ],
            "text/plain": [
              "                                           free_text  label_id\n",
              "0  Em được làm fan cứng luôn rồi nè ❤️ reaction q...         0\n",
              "1  Đúng là bọn mắt híp lò xo thụt :))) bên việt n...         2\n",
              "2           Đậu Văn Cường giờ giống thằng sida hơn à         0\n",
              "3  CÔN ĐỒ CỤC SÚC VÔ NHÂN TÍNH ĐỀ NGHI VN. NHÀ NƯ...         2\n",
              "4  Từ lý thuyết đến thực hành là cả 1 câu chuyện ...         0"
            ]
          },
          "metadata": {},
          "execution_count": 5
        }
      ]
    },
    {
      "cell_type": "markdown",
      "metadata": {
        "id": "e4HvTWht1JRW"
      },
      "source": [
        "#Overview"
      ]
    },
    {
      "cell_type": "code",
      "metadata": {
        "id": "FleEY-z41H-z",
        "colab": {
          "base_uri": "https://localhost:8080/"
        },
        "outputId": "1a2312d9-bb48-4893-ce73-4c1d87a1c34d"
      },
      "source": [
        "print(train.shape,dev.shape,test.shape)"
      ],
      "execution_count": 6,
      "outputs": [
        {
          "output_type": "stream",
          "name": "stdout",
          "text": [
            "(24048, 2) (2672, 2) (6680, 2)\n"
          ]
        }
      ]
    },
    {
      "cell_type": "markdown",
      "metadata": {
        "id": "nJp12CRz3X6A"
      },
      "source": [
        "## Remove duplicate"
      ]
    },
    {
      "cell_type": "code",
      "metadata": {
        "id": "DXSICSnC1Fl-",
        "colab": {
          "base_uri": "https://localhost:8080/"
        },
        "outputId": "3d3d3cc2-aa26-40c6-f72d-afe6670dcfd1"
      },
      "source": [
        "dev = dev.drop_duplicates(keep='last').reset_index(drop=True)\n",
        "train = train.drop_duplicates(keep='last').reset_index(drop=True)\n",
        "print(train.shape,dev.shape,test.shape)"
      ],
      "execution_count": 7,
      "outputs": [
        {
          "output_type": "stream",
          "name": "stdout",
          "text": [
            "(22692, 2) (2651, 2) (6680, 2)\n"
          ]
        }
      ]
    },
    {
      "cell_type": "markdown",
      "metadata": {
        "id": "n4h_EA00OB4b"
      },
      "source": [
        "##Remove missing values"
      ]
    },
    {
      "cell_type": "code",
      "metadata": {
        "id": "8616zsMJLdfY",
        "colab": {
          "base_uri": "https://localhost:8080/"
        },
        "outputId": "92cc4934-c518-415c-f395-20afaa53c8bf"
      },
      "source": [
        "train = train.dropna().reset_index(drop=True)\n",
        "dev = dev.dropna().reset_index(drop=True)\n",
        "print(train.shape,dev.shape,test.shape)"
      ],
      "execution_count": 8,
      "outputs": [
        {
          "output_type": "stream",
          "name": "stdout",
          "text": [
            "(22690, 2) (2651, 2) (6680, 2)\n"
          ]
        }
      ]
    },
    {
      "cell_type": "markdown",
      "metadata": {
        "id": "dxr5Phxm3zU6"
      },
      "source": [
        "##Count label"
      ]
    },
    {
      "cell_type": "code",
      "metadata": {
        "id": "sTF5vszR3zgY"
      },
      "source": [
        "def count_label(dataset):\n",
        "  count = (train['label_id'].value_counts())\n",
        "  sns.set()\n",
        "  # labels = data.keys()\n",
        "  count.plot(kind='pie', title='Number of label in training set', figsize=[8,8], startangle=90, shadow=True,\n",
        "             colors=['#EAB315','#F1CB5F','#F7E4AF'],\n",
        "          autopct=lambda p: '{:.2f}%({:.0f})'.format(p,(p/100)*count.sum()))\n",
        "  plt.show()"
      ],
      "execution_count": 9,
      "outputs": []
    },
    {
      "cell_type": "code",
      "metadata": {
        "id": "sdlXrteK9W21",
        "colab": {
          "base_uri": "https://localhost:8080/",
          "height": 0
        },
        "outputId": "9dc92973-c012-4cd9-9740-9e6e1cabcd86"
      },
      "source": [
        "count_label(train)"
      ],
      "execution_count": 10,
      "outputs": [
        {
          "output_type": "display_data",
          "data": {
            "image/png": "[encoded data removed]",
            "text/plain": [
              "<Figure size 576x576 with 1 Axes>"
            ]
          },
          "metadata": {}
        }
      ]
    },
    {
      "cell_type": "markdown",
      "metadata": {
        "id": "sc8xUb4vLAAc"
      },
      "source": [
        "##Length of comment"
      ]
    },
    {
      "cell_type": "code",
      "metadata": {
        "id": "ja8B9y_6TqaE"
      },
      "source": [
        "def length(dataset):\n",
        "  l = []\n",
        "  for i in train['free_text']:\n",
        "    l.append(len(str(i).split()))\n",
        "  l = pd.DataFrame(l, columns=['Length'])  \n",
        "  l = (l.value_counts())\n",
        "  sns.set()\n",
        "  l.plot(kind='area', title='Length of comments in training set', figsize=[8,8], colormap='summer',\n",
        "          )\n",
        "  plt.show()"
      ],
      "execution_count": 11,
      "outputs": []
    },
    {
      "cell_type": "code",
      "metadata": {
        "id": "VJfzXPPGX_f8",
        "colab": {
          "base_uri": "https://localhost:8080/",
          "height": 0
        },
        "outputId": "6b9888f9-dd6b-49da-ad1c-d5a97aa22db4"
      },
      "source": [
        "length(train)"
      ],
      "execution_count": 12,
      "outputs": [
        {
          "output_type": "display_data",
          "data": {
            "image/png": "[encoded data removed]",
            "text/plain": [
              "<Figure size 576x576 with 1 Axes>"
            ]
          },
          "metadata": {}
        }
      ]
    },
    {
      "cell_type": "markdown",
      "metadata": {
        "id": "mGUl__J6hUSh"
      },
      "source": [
        "##Vocab"
      ]
    },
    {
      "cell_type": "code",
      "metadata": {
        "id": "0PY3CF7Agfp0"
      },
      "source": [
        "def create_vocab(dataset):\n",
        "  text = []\n",
        "  for sentence in dataset['free_text']:\n",
        "    text.extend(str(sentence).split())\n",
        "  vocab = set(text)\n",
        "  # print(groupby(text))\n",
        "  #print(len(vocab),vocab)\n",
        "  df = pd.DataFrame(list(vocab))\n",
        "  return df"
      ],
      "execution_count": 13,
      "outputs": []
    },
    {
      "cell_type": "code",
      "metadata": {
        "id": "gMz5fBdnIHZi"
      },
      "source": [
        "text = []\n",
        "for sentence in train['free_text']:\n",
        "  text.extend(str(sentence).split())"
      ],
      "execution_count": 14,
      "outputs": []
    },
    {
      "cell_type": "code",
      "metadata": {
        "id": "YEXmQqXDgydh"
      },
      "source": [
        "vocab = create_vocab(train)\n",
        "vocab.to_csv('vocab.csv')"
      ],
      "execution_count": 15,
      "outputs": []
    },
    {
      "cell_type": "markdown",
      "metadata": {
        "id": "70cMY_BhlBpQ"
      },
      "source": [
        "#Preprocessing"
      ]
    },
    {
      "cell_type": "markdown",
      "metadata": {
        "id": "NrLVkBqrpaL5"
      },
      "source": [
        "##Normalize Unicode"
      ]
    },
    {
      "cell_type": "code",
      "metadata": {
        "id": "s7e73HE_EUzb",
        "colab": {
          "base_uri": "https://localhost:8080/",
          "height": 0
        },
        "outputId": "17c41cfc-6a3b-4d90-a8bc-db7bf7f49439"
      },
      "source": [
        "\"\"\"\n",
        "    Start section: Chuyển câu văn về kiểu gõ telex khi không bật Unikey\n",
        "    Ví dụ: thủy = thuyr, tượng = tuwowngj\n",
        "\"\"\"\n",
        "bang_nguyen_am = [['a', 'à', 'á', 'ả', 'ã', 'ạ', 'a'],\n",
        "                  ['ă', 'ằ', 'ắ', 'ẳ', 'ẵ', 'ặ', 'aw'],\n",
        "                  ['â', 'ầ', 'ấ', 'ẩ', 'ẫ', 'ậ', 'aa'],\n",
        "                  ['e', 'è', 'é', 'ẻ', 'ẽ', 'ẹ', 'e'],\n",
        "                  ['ê', 'ề', 'ế', 'ể', 'ễ', 'ệ', 'ee'],\n",
        "                  ['i', 'ì', 'í', 'ỉ', 'ĩ', 'ị', 'i'],\n",
        "                  ['o', 'ò', 'ó', 'ỏ', 'õ', 'ọ', 'o'],\n",
        "                  ['ô', 'ồ', 'ố', 'ổ', 'ỗ', 'ộ', 'oo'],\n",
        "                  ['ơ', 'ờ', 'ớ', 'ở', 'ỡ', 'ợ', 'ow'],\n",
        "                  ['u', 'ù', 'ú', 'ủ', 'ũ', 'ụ', 'u'],\n",
        "                  ['ư', 'ừ', 'ứ', 'ử', 'ữ', 'ự', 'uw'],\n",
        "                  ['y', 'ỳ', 'ý', 'ỷ', 'ỹ', 'ỵ', 'y']]\n",
        "bang_ky_tu_dau = ['', 'f', 's', 'r', 'x', 'j']\n",
        "\n",
        "nguyen_am_to_ids = {}\n",
        "\n",
        "for i in range(len(bang_nguyen_am)):\n",
        "    for j in range(len(bang_nguyen_am[i]) - 1):\n",
        "        nguyen_am_to_ids[bang_nguyen_am[i][j]] = (i, j)\n",
        "\n",
        "\n",
        "def vn_word_to_telex_type(word):\n",
        "    dau_cau = 0\n",
        "    new_word = ''\n",
        "    for char in word:\n",
        "        x, y = nguyen_am_to_ids.get(char, (-1, -1))\n",
        "        if x == -1:\n",
        "            new_word += char\n",
        "            continue\n",
        "        if y != 0:\n",
        "            dau_cau = y\n",
        "        new_word += bang_nguyen_am[x][-1]\n",
        "    new_word += bang_ky_tu_dau[dau_cau]\n",
        "    return new_word\n",
        "\n",
        "\n",
        "def vn_sentence_to_telex_type(sentence):\n",
        "    \"\"\"\n",
        "    Chuyển câu tiếng việt có dấu về kiểu gõ telex.\n",
        "    :param sentence:\n",
        "    :return:\n",
        "    \"\"\"\n",
        "    words = sentence.split()\n",
        "    for index, word in enumerate(words):\n",
        "        words[index] = vn_word_to_telex_type(word)\n",
        "    return ' '.join(words)\n",
        "\n",
        "\n",
        "\"\"\"\n",
        "    End section: Chuyển câu văn về kiểu gõ telex khi không bật Unikey\n",
        "\"\"\"\n",
        "# vn_sentence_to_telex_type('tượng')"
      ],
      "execution_count": 16,
      "outputs": [
        {
          "output_type": "execute_result",
          "data": {
            "application/vnd.google.colaboratory.intrinsic+json": {
              "type": "string"
            },
            "text/plain": [
              "'\\n    End section: Chuyển câu văn về kiểu gõ telex khi không bật Unikey\\n'"
            ]
          },
          "metadata": {},
          "execution_count": 16
        }
      ]
    },
    {
      "cell_type": "code",
      "metadata": {
        "id": "KkM7UjRnpWGY"
      },
      "source": [
        "#convert to Unicode\n",
        "uniChars = \"àáảãạâầấẩẫậăằắẳẵặèéẻẽẹêềếểễệđìíỉĩịòóỏõọôồốổỗộơờớởỡợùúủũụưừứửữựỳýỷỹỵÀÁẢÃẠÂẦẤẨẪẬĂẰẮẲẴẶÈÉẺẼẸÊỀẾỂỄỆĐÌÍỈĨỊÒÓỎÕỌÔỒỐỔỖỘƠỜỚỞỠỢÙÚỦŨỤƯỪỨỬỮỰỲÝỶỸỴÂĂĐÔƠƯ\"\n",
        "unsignChars = \"aaaaaaaaaaaaaaaaaeeeeeeeeeeediiiiiooooooooooooooooouuuuuuuuuuuyyyyyAAAAAAAAAAAAAAAAAEEEEEEEEEEEDIIIOOOOOOOOOOOOOOOOOOOUUUUUUUUUUUYYYYYAADOOU\"\n",
        " \n",
        " \n",
        "def loaddicchar():\n",
        "    dic = {}\n",
        "    char1252 = 'à|á|ả|ã|ạ|ầ|ấ|ẩ|ẫ|ậ|ằ|ắ|ẳ|ẵ|ặ|è|é|ẻ|ẽ|ẹ|ề|ế|ể|ễ|ệ|ì|í|ỉ|ĩ|ị|ò|ó|ỏ|õ|ọ|ồ|ố|ổ|ỗ|ộ|ờ|ớ|ở|ỡ|ợ|ù|ú|ủ|ũ|ụ|ừ|ứ|ử|ữ|ự|ỳ|ý|ỷ|ỹ|ỵ|À|Á|Ả|Ã|Ạ|Ầ|Ấ|Ẩ|Ẫ|Ậ|Ằ|Ắ|Ẳ|Ẵ|Ặ|È|É|Ẻ|Ẽ|Ẹ|Ề|Ế|Ể|Ễ|Ệ|Ì|Í|Ỉ|Ĩ|Ị|Ò|Ó|Ỏ|Õ|Ọ|Ồ|Ố|Ổ|Ỗ|Ộ|Ờ|Ớ|Ở|Ỡ|Ợ|Ù|Ú|Ủ|Ũ|Ụ|Ừ|Ứ|Ử|Ữ|Ự|Ỳ|Ý|Ỷ|Ỹ|Ỵ'.split(\n",
        "        '|')\n",
        "    charutf8 = \"à|á|ả|ã|ạ|ầ|ấ|ẩ|ẫ|ậ|ằ|ắ|ẳ|ẵ|ặ|è|é|ẻ|ẽ|ẹ|ề|ế|ể|ễ|ệ|ì|í|ỉ|ĩ|ị|ò|ó|ỏ|õ|ọ|ồ|ố|ổ|ỗ|ộ|ờ|ớ|ở|ỡ|ợ|ù|ú|ủ|ũ|ụ|ừ|ứ|ử|ữ|ự|ỳ|ý|ỷ|ỹ|ỵ|À|Á|Ả|Ã|Ạ|Ầ|Ấ|Ẩ|Ẫ|Ậ|Ằ|Ắ|Ẳ|Ẵ|Ặ|È|É|Ẻ|Ẽ|Ẹ|Ề|Ế|Ể|Ễ|Ệ|Ì|Í|Ỉ|Ĩ|Ị|Ò|Ó|Ỏ|Õ|Ọ|Ồ|Ố|Ổ|Ỗ|Ộ|Ờ|Ớ|Ở|Ỡ|Ợ|Ù|Ú|Ủ|Ũ|Ụ|Ừ|Ứ|Ử|Ữ|Ự|Ỳ|Ý|Ỷ|Ỹ|Ỵ\".split(\n",
        "        '|')\n",
        "    for i in range(len(char1252)):\n",
        "        dic[char1252[i]] = charutf8[i]\n",
        "    return dic\n",
        " \n",
        " \n",
        "dicchar = loaddicchar()\n",
        " \n",
        " \n",
        "def convert_unicode(text):\n",
        "    return re.sub(\n",
        "        r'à|á|ả|ã|ạ|ầ|ấ|ẩ|ẫ|ậ|ằ|ắ|ẳ|ẵ|ặ|è|é|ẻ|ẽ|ẹ|ề|ế|ể|ễ|ệ|ì|í|ỉ|ĩ|ị|ò|ó|ỏ|õ|ọ|ồ|ố|ổ|ỗ|ộ|ờ|ớ|ở|ỡ|ợ|ù|ú|ủ|ũ|ụ|ừ|ứ|ử|ữ|ự|ỳ|ý|ỷ|ỹ|ỵ|À|Á|Ả|Ã|Ạ|Ầ|Ấ|Ẩ|Ẫ|Ậ|Ằ|Ắ|Ẳ|Ẵ|Ặ|È|É|Ẻ|Ẽ|Ẹ|Ề|Ế|Ể|Ễ|Ệ|Ì|Í|Ỉ|Ĩ|Ị|Ò|Ó|Ỏ|Õ|Ọ|Ồ|Ố|Ổ|Ỗ|Ộ|Ờ|Ớ|Ở|Ỡ|Ợ|Ù|Ú|Ủ|Ũ|Ụ|Ừ|Ứ|Ử|Ữ|Ự|Ỳ|Ý|Ỷ|Ỹ|Ỵ',\n",
        "        lambda x: dicchar[x.group()], text)"
      ],
      "execution_count": 17,
      "outputs": []
    },
    {
      "cell_type": "markdown",
      "metadata": {
        "id": "XuA4eu3KrQgh"
      },
      "source": [
        "##Normalize dấu"
      ]
    },
    {
      "cell_type": "code",
      "metadata": {
        "id": "Z2CV_rVAFh1P",
        "colab": {
          "base_uri": "https://localhost:8080/"
        },
        "outputId": "e6301e55-e8d5-4c6a-fe9e-e6a9a9e81f3f"
      },
      "source": [
        "def chuan_hoa_dau_tu_tieng_viet(word):\n",
        "    if not is_valid_vietnam_word(word):\n",
        "        return word\n",
        " \n",
        "    chars = list(word)\n",
        "    dau_cau = 0\n",
        "    nguyen_am_index = []\n",
        "    qu_or_gi = False\n",
        "    for index, char in enumerate(chars):\n",
        "        x, y = nguyen_am_to_ids.get(char, (-1, -1))\n",
        "        if x == -1:\n",
        "            continue\n",
        "        elif x == 9:  # check qu\n",
        "            if index != 0 and chars[index - 1] == 'q':\n",
        "                chars[index] = 'u'\n",
        "                qu_or_gi = True\n",
        "        elif x == 5:  # check gi\n",
        "            if index != 0 and chars[index - 1] == 'g':\n",
        "                chars[index] = 'i'\n",
        "                qu_or_gi = True\n",
        "        if y != 0:\n",
        "            dau_cau = y\n",
        "            chars[index] = bang_nguyen_am[x][0]\n",
        "        if not qu_or_gi or index != 1:\n",
        "            nguyen_am_index.append(index)\n",
        "    if len(nguyen_am_index) < 2:\n",
        "        if qu_or_gi:\n",
        "            if len(chars) == 2:\n",
        "                x, y = nguyen_am_to_ids.get(chars[1])\n",
        "                chars[1] = bang_nguyen_am[x][dau_cau]\n",
        "            else:\n",
        "                x, y = nguyen_am_to_ids.get(chars[2], (-1, -1))\n",
        "                if x != -1:\n",
        "                    chars[2] = bang_nguyen_am[x][dau_cau]\n",
        "                else:\n",
        "                    chars[1] = bang_nguyen_am[5][dau_cau] if chars[1] == 'i' else bang_nguyen_am[9][dau_cau]\n",
        "            return ''.join(chars)\n",
        "        return word\n",
        " \n",
        "    for index in nguyen_am_index:\n",
        "        x, y = nguyen_am_to_ids[chars[index]]\n",
        "        if x == 4 or x == 8:  # ê, ơ\n",
        "            chars[index] = bang_nguyen_am[x][dau_cau]\n",
        "            # for index2 in nguyen_am_index:\n",
        "            #     if index2 != index:\n",
        "            #         x, y = nguyen_am_to_ids[chars[index]]\n",
        "            #         chars[index2] = bang_nguyen_am[x][0]\n",
        "            return ''.join(chars)\n",
        " \n",
        "    if len(nguyen_am_index) == 2:\n",
        "        if nguyen_am_index[-1] == len(chars) - 1:\n",
        "            x, y = nguyen_am_to_ids[chars[nguyen_am_index[0]]]\n",
        "            chars[nguyen_am_index[0]] = bang_nguyen_am[x][dau_cau]\n",
        "            # x, y = nguyen_am_to_ids[chars[nguyen_am_index[1]]]\n",
        "            # chars[nguyen_am_index[1]] = bang_nguyen_am[x][0]\n",
        "        else:\n",
        "            # x, y = nguyen_am_to_ids[chars[nguyen_am_index[0]]]\n",
        "            # chars[nguyen_am_index[0]] = bang_nguyen_am[x][0]\n",
        "            x, y = nguyen_am_to_ids[chars[nguyen_am_index[1]]]\n",
        "            chars[nguyen_am_index[1]] = bang_nguyen_am[x][dau_cau]\n",
        "    else:\n",
        "        # x, y = nguyen_am_to_ids[chars[nguyen_am_index[0]]]\n",
        "        # chars[nguyen_am_index[0]] = bang_nguyen_am[x][0]\n",
        "        x, y = nguyen_am_to_ids[chars[nguyen_am_index[1]]]\n",
        "        chars[nguyen_am_index[1]] = bang_nguyen_am[x][dau_cau]\n",
        "        # x, y = nguyen_am_to_ids[chars[nguyen_am_index[2]]]\n",
        "        # chars[nguyen_am_index[2]] = bang_nguyen_am[x][0]\n",
        "    return ''.join(chars)\n",
        " \n",
        " \n",
        "def is_valid_vietnam_word(word):\n",
        "    chars = list(word)\n",
        "    nguyen_am_index = -1\n",
        "    for index, char in enumerate(chars):\n",
        "        x, y = nguyen_am_to_ids.get(char, (-1, -1))\n",
        "        if x != -1:\n",
        "            if nguyen_am_index == -1:\n",
        "                nguyen_am_index = index\n",
        "            else:\n",
        "                if index - nguyen_am_index != 1:\n",
        "                    return False\n",
        "                nguyen_am_index = index\n",
        "    return True\n",
        " \n",
        " \n",
        "def chuan_hoa_dau_cau_tieng_viet(sentence):\n",
        "    \"\"\"\n",
        "        Chuyển câu tiếng việt về chuẩn gõ dấu kiểu cũ.\n",
        "        :param sentence:\n",
        "        :return:\n",
        "        \"\"\"\n",
        "    sentence = sentence.lower()\n",
        "    words = sentence.split()\n",
        "    for index, word in enumerate(words):\n",
        "        cw = re.sub(r'(^\\p{P}*)([p{L}.]*\\p{L}+)(\\p{P}*$)', r'\\1/\\2/\\3', word).split('/')\n",
        "        # print(cw)\n",
        "        if len(cw) == 3:\n",
        "            cw[1] = chuan_hoa_dau_tu_tieng_viet(cw[1])\n",
        "        words[index] = ''.join(cw)\n",
        "    return ' '.join(words)\n",
        " \n",
        " \n",
        "\"\"\"\n",
        "    End section: Chuyển câu văn về cách gõ dấu kiểu cũ: dùng òa úy thay oà uý\n",
        "    Xem tại đây: https://vi.wikipedia.org/wiki/Quy_tắc_đặt_dấu_thanh_trong_chữ_quốc_ngữ\n",
        "\"\"\"\n",
        "if __name__ == '__main__':\n",
        "    print(chuan_hoa_dau_cau_tieng_viet('anh hoà, đang làm.. gì'))"
      ],
      "execution_count": 18,
      "outputs": [
        {
          "output_type": "stream",
          "name": "stdout",
          "text": [
            "anh hòa, đang làm.. gì\n"
          ]
        }
      ]
    },
    {
      "cell_type": "code",
      "metadata": {
        "id": "l29FSYZEvaVf"
      },
      "source": [
        "def check_space(text):#check space in string \n",
        "  for i in range(len(text)):\n",
        "    if text[i]==' ':\n",
        "      return True\n",
        "  return False\n",
        "abb_dict_1=[]\n",
        "abb_dict_2=[]\n",
        "abb_dict = pd.read_excel('abbreviation_dictionary_vn.xlsx', sheet_name='Sheet1')\n",
        "for i in range(abb_dict.shape[0]):\n",
        "  word = abb_dict['abbreviation'][i]\n",
        "  if (check_space(word)):\n",
        "    abb_dict_2.append([abb_dict.at[i,'abbreviation'],abb_dict.at[i,'meaning']])# more 1 word\n",
        "  else:\n",
        "    abb_dict_1.append([abb_dict.at[i,'abbreviation'],abb_dict.at[i,'meaning']])# equal 1 word\n",
        "abb_dict_1 = pd.DataFrame(abb_dict_1, columns=['abbreviation','meaning'])\n",
        "abb_dict_2 = pd.DataFrame(abb_dict_2, columns=['abbreviation','meaning'])\n",
        "abb_dict_1.to_excel('abb_dict_1.xlsx')\n",
        "abb_dict_2.to_excel('abb_dict_2.xlsx')"
      ],
      "execution_count": 20,
      "outputs": []
    },
    {
      "cell_type": "code",
      "metadata": {
        "id": "bx0q7pBfwHXl"
      },
      "source": [
        "# Remove emoji and emoticons\n",
        "def emo(text):\n",
        "  for emot in UNICODE_EMOJI:\n",
        "    text = str(text).replace(emot, '')\n",
        "  # for emot in EMOTICONS_EMO:\n",
        "  #   text = str(text).replace(emot, '')  \n",
        "  text = re.sub('  +',' ',text).strip() \n",
        "  return text  \n",
        "#Remove url\n",
        "def url(text):\n",
        "  # url_pattern = re.compile(r'https?://\\S+|www\\.\\S+')\n",
        "  # text = url_pattern.sub(r'', str(text))\n",
        "  text = re.sub(r'https?://\\S+|www\\.\\S+', ' ',str(text))\n",
        "  text = re.sub('  +',' ',text).strip()\n",
        "  return text\n",
        "#remove special character\n",
        "def special_character(text):\n",
        "  text = re.sub('[0-9]',\" number \",text)\n",
        "  text = re.sub(\"[~!@#$%^&*()_+{}“”|:\\\"<>?`´\\-=[\\]\\;'\\\\\\/.,]\",\" \",text)\n",
        "  text = re.sub('  +',' ',text).strip()\n",
        "  return text\n",
        "#normalize repeated characters\n",
        "def repeated_character(text):\n",
        "  text = re.sub(r'(\\w)\\1+', r'\\1', text) \n",
        "  text = re.sub('  +',' ',text).strip()\n",
        "  return text\n",
        "def mail(text):\n",
        "  text = re.sub(r'[^@]+@[^@]+\\.[^@]+',' ', text) \n",
        "  text = re.sub('  +',' ',text).strip()\n",
        "  return text\n",
        "#remove mention tag and hashtag\n",
        "def tag(text):\n",
        "  text = re.sub(r\"(?:\\@|\\#|\\://)\\S+\", \" \", text) \n",
        "  text = re.sub('  +',' ',text).strip()\n",
        "  return text\n",
        "# \"\"\"Remove all mixed words and numbers\"\"\"\n",
        "def mixed_word_number(text):\n",
        "  text = ' '.join(s for s in text.split() if not any(c.isdigit() for c in s))\n",
        "  text = re.sub('  +',' ',text).strip()\n",
        "  return text\n",
        "#remove hidden string \n",
        "def hidden_character(text):\n",
        "  text = re.sub(\"[^{}]+\".format(printable), \" \", text)\n",
        "  text = re.sub('  +',' ',text).strip()\n",
        "  return text\n",
        "#tokenize by lib Pyvi\n",
        "def tokenize_by_lib(text):\n",
        "    text = ViTokenizer.tokenize(text)\n",
        "    return text\n",
        "#Tokenize by space\n",
        "def tokenize_by_space(text):\n",
        "  text = text.split() \n",
        "  return text\n",
        "# \"\"\"Read file stop words \"\"\"\n",
        "STOPWORDS = 'vietnamese-stopwords-dash.txt'\n",
        "with open(STOPWORDS, \"r\") as ins:\n",
        "    stopwords = []\n",
        "    for line in ins:\n",
        "        dd = line.strip('\\n')\n",
        "        stopwords.append(dd)\n",
        "    stop_words = set(stopwords)\n",
        "# \"\"\"Filter stop words \"\"\"\n",
        "def filter_stop_words(text):\n",
        "    new_sent = [word for word in text.split() if word not in stop_words]\n",
        "    sentence = ' '.join(new_sent)        \n",
        "    return sentence\n",
        "def convert_emoji(text):\n",
        "  text = text.replace(':)','\\U0001F642')#1\n",
        "  text = text.replace('=)','\\U0001F60A')#2\n",
        "  text = text.replace(':(','\\U0001F641')#3\n",
        "  text = text.replace(':v','\\U0001F606')#4\n",
        "  text = text.replace('-_-','\\U0001F611')#5\n",
        "  text = text.replace(':3','\\U0001F619')#6\n",
        "  text = text.replace('<3','\\u2764\\uFE0F')#7\n",
        "  text = text.replace('@@','\\u2764\\uFE0F')#8\n",
        "  text = text.replace(':<','\\U0001F600')#9\n",
        "  text = text.replace(':>','\\U0001F61D')#10\n",
        "  text = text.replace('=]','\\U0001F601')#11  \n",
        "  text = text.replace(':\">','\\U0001F61C')#12\n",
        "  text = text.replace(':D','\\U0001F601')#13\n",
        "  text = text.replace(':*','\\U0001F601')#14\n",
        "  text = re.sub('  +',' ',text).strip()\n",
        "  return text\n",
        "abb_dict_1 = pd.read_excel(\"abb_dict_1.xlsx\")\n",
        "abb_dict_1 = abb_dict_1.drop(columns=['Unnamed: 0'])\n",
        "def abbreviation_1(text):#len word equal 1\n",
        "  for word in text.split():\n",
        "    for i in range(abb_dict_1.shape[0]):\n",
        "      if str(abb_dict_1.at[i,'abbreviation']) == str(word):\n",
        "        word = str(abb_dict_1.at[i,'meaning']) \n",
        "  text = re.sub('  +',' ',text).strip()\n",
        "  return text  \n",
        "abb_dict_2 = pd.read_excel(\"abb_dict_2.xlsx\")\n",
        "abb_dict_2 = abb_dict_2.drop(columns=['Unnamed: 0'])\n",
        "def abbreviation_2(text):#len word >2\n",
        "  for i in range(abb_dict_2.shape[0]):\n",
        "    text = text.replace(abb_dict_2.at[i,'abbreviation'], abb_dict_2.at[i,'meaning'])\n",
        "  text = re.sub('  +',' ',text).strip()\n",
        "  return text  \n",
        " "
      ],
      "execution_count": 27,
      "outputs": []
    },
    {
      "cell_type": "code",
      "metadata": {
        "id": "3Qfo3wB11r4p"
      },
      "source": [
        "abb_dict_2"
      ],
      "execution_count": null,
      "outputs": []
    },
    {
      "cell_type": "code",
      "metadata": {
        "id": "KADOBQTEz1vS"
      },
      "source": [
        "for i in range(abb_dict_2.shape[0]):\n",
        "  print(abb_dict_2.at[i,'0'])"
      ],
      "execution_count": null,
      "outputs": []
    },
    {
      "cell_type": "code",
      "metadata": {
        "id": "ms4EDBcgfIzu"
      },
      "source": [
        "print(':)','\\U0001F642','<3','\\u2764\\uFE0F',':3','\\U0001F619','-_-','\\U0001F611',':v','\\U0001F606',':(','\\U0001F641','=)','\\U0001F60A')\n",
        "print('@@','\\U0001F635',':D','\\U0001F600',':>','\\U0001F61D','=]','\\U0001F601',':\">','\\U0001F61C',':D','\\U0001F601')"
      ],
      "execution_count": null,
      "outputs": []
    },
    {
      "cell_type": "code",
      "metadata": {
        "colab": {
          "base_uri": "https://localhost:8080/",
          "height": 87
        },
        "id": "UtD_IUfsjaEv",
        "outputId": "e389c2ea-5fb5-40ab-9e64-4ca64bcab251"
      },
      "source": [
        "# abbreviation_1(abbreviation_2('Nói quá đúng ka ka kk, chỉ buồn con người VN hiện giờ đã quá sợ hãi trước sự tàn ác của cs nên họ bịt tai ,bịt mắt ,bịt miệng trước nỗi đau của đồng bào ,đồng loại nhưng họ ko hiểu rằng \"hôm nay là chuyện đã xãy ra với anh ấy , ngay mai nó sẽ xảy ra là chính mình\" . Bởi thế có bịt tai ,bịt mắt cũng vô ích , hãy liên kết để hành động vì sự thật ,vì lẽ phải.'))"
      ],
      "execution_count": 29,
      "outputs": [
        {
          "output_type": "execute_result",
          "data": {
            "application/vnd.google.colaboratory.intrinsic+json": {
              "type": "string"
            },
            "text/plain": [
              "'Nói quá đúng ha ha kk, chỉ buồn con người VN hiện giờ đã quá sợ hãi trước sự tàn ác của cs nên họ bịt tai ,bịt mắt ,bịt miệng trước nỗi đau của đồng bào ,đồng loại nhưng họ ko hiểu rằng \"hôm nay là chuyện đã xãy ra với anh ấy , ngay mai nó sẽ xảy ra là chính mình\" . Bởi thế có bịt tai ,bịt mắt cũng vô ích , hãy liên kết để hành động vì sự thật ,vì lẽ phải.'"
            ]
          },
          "metadata": {},
          "execution_count": 29
        }
      ]
    },
    {
      "cell_type": "markdown",
      "metadata": {
        "id": "ZQ_fTsCIrIrx"
      },
      "source": [
        "## preprocessing"
      ]
    },
    {
      "cell_type": "code",
      "metadata": {
        "id": "r9RoxzIS--F6"
      },
      "source": [
        "def preprocessing(dataset):\n",
        "  dataset['free_text'] = dataset['free_text'].str.lower() \n",
        "  dataset['free_text'] = dataset['free_text'].apply(abbreviation_2)\n",
        "  dataset['free_text'] = dataset['free_text'].apply(convert_emoji)\n",
        "  dataset['free_text'] = dataset['free_text'].apply(url)\n",
        "  dataset['free_text'] = dataset['free_text'].apply(mail)\n",
        "  # dataset['free_text'] = dataset['free_text'].apply(emo) #remove emo\n",
        "  dataset['free_text'] = dataset['free_text'].apply(tag)#remove tag\n",
        "  dataset['free_text'] = dataset['free_text'].apply(convert_unicode)\n",
        "  dataset['free_text'] = dataset['free_text'].apply(chuan_hoa_dau_cau_tieng_viet)\n",
        "  dataset['free_text'] = dataset['free_text'].apply(repeated_character)  \n",
        "  dataset['free_text'] = dataset['free_text'].apply(special_character)\n",
        "  # dataset['free_text'] = dataset['free_text'].apply(hidden_character)\n",
        "  dataset['free_text'] = dataset['free_text'].apply(abbreviation_1)  \n",
        "  # dataset['free_text'] = dataset['free_text'].apply(mixed_word_number)\n",
        "  # dataset['free_text'] = dataset['free_text'].apply(tokenize_by_lib)\n",
        "  # dataset['free_text'] = dataset['free_text'].apply(tokenize_by_space)#space\n",
        "  # dataset['free_text'] = dataset['free_text'].apply(filter_stop_words)\n",
        "  return dataset"
      ],
      "execution_count": 30,
      "outputs": []
    },
    {
      "cell_type": "code",
      "metadata": {
        "id": "nVOfno62fx_v",
        "colab": {
          "base_uri": "https://localhost:8080/",
          "height": 381
        },
        "outputId": "36fa5e48-be50-43ea-d6ce-c4281445887b"
      },
      "source": [
        "train = preprocessing(train)\n",
        "dev = preprocessing(dev)\n",
        "test = preprocessing(test)"
      ],
      "execution_count": 31,
      "outputs": [
        {
          "output_type": "error",
          "ename": "NameError",
          "evalue": "ignored",
          "traceback": [
            "\u001b[0;31m---------------------------------------------------------------------------\u001b[0m",
            "\u001b[0;31mNameError\u001b[0m                                 Traceback (most recent call last)",
            "\u001b[0;32m<ipython-input-31-ef5a23795e29>\u001b[0m in \u001b[0;36m<module>\u001b[0;34m()\u001b[0m\n\u001b[0;32m----> 1\u001b[0;31m \u001b[0mtrain\u001b[0m \u001b[0;34m=\u001b[0m \u001b[0mpreprocessing\u001b[0m\u001b[0;34m(\u001b[0m\u001b[0mtrain\u001b[0m\u001b[0;34m)\u001b[0m\u001b[0;34m\u001b[0m\u001b[0;34m\u001b[0m\u001b[0m\n\u001b[0m\u001b[1;32m      2\u001b[0m \u001b[0mdev\u001b[0m \u001b[0;34m=\u001b[0m \u001b[0mpreprocessing\u001b[0m\u001b[0;34m(\u001b[0m\u001b[0mdev\u001b[0m\u001b[0;34m)\u001b[0m\u001b[0;34m\u001b[0m\u001b[0;34m\u001b[0m\u001b[0m\n\u001b[1;32m      3\u001b[0m \u001b[0mtest\u001b[0m \u001b[0;34m=\u001b[0m \u001b[0mpreprocessing\u001b[0m\u001b[0;34m(\u001b[0m\u001b[0mtest\u001b[0m\u001b[0;34m)\u001b[0m\u001b[0;34m\u001b[0m\u001b[0;34m\u001b[0m\u001b[0m\n",
            "\u001b[0;32m<ipython-input-30-dcf33cfbbc69>\u001b[0m in \u001b[0;36mpreprocessing\u001b[0;34m(dataset)\u001b[0m\n\u001b[1;32m     11\u001b[0m   \u001b[0mdataset\u001b[0m\u001b[0;34m[\u001b[0m\u001b[0;34m'free_text'\u001b[0m\u001b[0;34m]\u001b[0m \u001b[0;34m=\u001b[0m \u001b[0mdataset\u001b[0m\u001b[0;34m[\u001b[0m\u001b[0;34m'free_text'\u001b[0m\u001b[0;34m]\u001b[0m\u001b[0;34m.\u001b[0m\u001b[0mapply\u001b[0m\u001b[0;34m(\u001b[0m\u001b[0mrepeated_character\u001b[0m\u001b[0;34m)\u001b[0m\u001b[0;34m\u001b[0m\u001b[0;34m\u001b[0m\u001b[0m\n\u001b[1;32m     12\u001b[0m   \u001b[0mdataset\u001b[0m\u001b[0;34m[\u001b[0m\u001b[0;34m'free_text'\u001b[0m\u001b[0;34m]\u001b[0m \u001b[0;34m=\u001b[0m \u001b[0mdataset\u001b[0m\u001b[0;34m[\u001b[0m\u001b[0;34m'free_text'\u001b[0m\u001b[0;34m]\u001b[0m\u001b[0;34m.\u001b[0m\u001b[0mapply\u001b[0m\u001b[0;34m(\u001b[0m\u001b[0mspecial_character\u001b[0m\u001b[0;34m)\u001b[0m\u001b[0;34m\u001b[0m\u001b[0;34m\u001b[0m\u001b[0m\n\u001b[0;32m---> 13\u001b[0;31m   \u001b[0mdataset\u001b[0m\u001b[0;34m[\u001b[0m\u001b[0;34m'free_text'\u001b[0m\u001b[0;34m]\u001b[0m \u001b[0;34m=\u001b[0m \u001b[0mdataset\u001b[0m\u001b[0;34m[\u001b[0m\u001b[0;34m'free_text'\u001b[0m\u001b[0;34m]\u001b[0m\u001b[0;34m.\u001b[0m\u001b[0mapply\u001b[0m\u001b[0;34m(\u001b[0m\u001b[0mhidden_character\u001b[0m\u001b[0;34m)\u001b[0m\u001b[0;34m\u001b[0m\u001b[0;34m\u001b[0m\u001b[0m\n\u001b[0m\u001b[1;32m     14\u001b[0m   \u001b[0mdataset\u001b[0m\u001b[0;34m[\u001b[0m\u001b[0;34m'free_text'\u001b[0m\u001b[0;34m]\u001b[0m \u001b[0;34m=\u001b[0m \u001b[0mdataset\u001b[0m\u001b[0;34m[\u001b[0m\u001b[0;34m'free_text'\u001b[0m\u001b[0;34m]\u001b[0m\u001b[0;34m.\u001b[0m\u001b[0mapply\u001b[0m\u001b[0;34m(\u001b[0m\u001b[0mabbreviation_1\u001b[0m\u001b[0;34m)\u001b[0m\u001b[0;34m\u001b[0m\u001b[0;34m\u001b[0m\u001b[0m\n\u001b[1;32m     15\u001b[0m   \u001b[0;31m# dataset['free_text'] = dataset['free_text'].apply(mixed_word_number)\u001b[0m\u001b[0;34m\u001b[0m\u001b[0;34m\u001b[0m\u001b[0;34m\u001b[0m\u001b[0m\n",
            "\u001b[0;32m/usr/local/lib/python3.7/dist-packages/pandas/core/series.py\u001b[0m in \u001b[0;36mapply\u001b[0;34m(self, func, convert_dtype, args, **kwds)\u001b[0m\n\u001b[1;32m   4211\u001b[0m             \u001b[0;32melse\u001b[0m\u001b[0;34m:\u001b[0m\u001b[0;34m\u001b[0m\u001b[0;34m\u001b[0m\u001b[0m\n\u001b[1;32m   4212\u001b[0m                 \u001b[0mvalues\u001b[0m \u001b[0;34m=\u001b[0m \u001b[0mself\u001b[0m\u001b[0;34m.\u001b[0m\u001b[0mastype\u001b[0m\u001b[0;34m(\u001b[0m\u001b[0mobject\u001b[0m\u001b[0;34m)\u001b[0m\u001b[0;34m.\u001b[0m\u001b[0m_values\u001b[0m\u001b[0;34m\u001b[0m\u001b[0;34m\u001b[0m\u001b[0m\n\u001b[0;32m-> 4213\u001b[0;31m                 \u001b[0mmapped\u001b[0m \u001b[0;34m=\u001b[0m \u001b[0mlib\u001b[0m\u001b[0;34m.\u001b[0m\u001b[0mmap_infer\u001b[0m\u001b[0;34m(\u001b[0m\u001b[0mvalues\u001b[0m\u001b[0;34m,\u001b[0m \u001b[0mf\u001b[0m\u001b[0;34m,\u001b[0m \u001b[0mconvert\u001b[0m\u001b[0;34m=\u001b[0m\u001b[0mconvert_dtype\u001b[0m\u001b[0;34m)\u001b[0m\u001b[0;34m\u001b[0m\u001b[0;34m\u001b[0m\u001b[0m\n\u001b[0m\u001b[1;32m   4214\u001b[0m \u001b[0;34m\u001b[0m\u001b[0m\n\u001b[1;32m   4215\u001b[0m         \u001b[0;32mif\u001b[0m \u001b[0mlen\u001b[0m\u001b[0;34m(\u001b[0m\u001b[0mmapped\u001b[0m\u001b[0;34m)\u001b[0m \u001b[0;32mand\u001b[0m \u001b[0misinstance\u001b[0m\u001b[0;34m(\u001b[0m\u001b[0mmapped\u001b[0m\u001b[0;34m[\u001b[0m\u001b[0;36m0\u001b[0m\u001b[0;34m]\u001b[0m\u001b[0;34m,\u001b[0m \u001b[0mSeries\u001b[0m\u001b[0;34m)\u001b[0m\u001b[0;34m:\u001b[0m\u001b[0;34m\u001b[0m\u001b[0;34m\u001b[0m\u001b[0m\n",
            "\u001b[0;32mpandas/_libs/lib.pyx\u001b[0m in \u001b[0;36mpandas._libs.lib.map_infer\u001b[0;34m()\u001b[0m\n",
            "\u001b[0;32m<ipython-input-27-26d0096e1d18>\u001b[0m in \u001b[0;36mhidden_character\u001b[0;34m(text)\u001b[0m\n\u001b[1;32m     41\u001b[0m \u001b[0;31m#remove hidden string\u001b[0m\u001b[0;34m\u001b[0m\u001b[0;34m\u001b[0m\u001b[0;34m\u001b[0m\u001b[0m\n\u001b[1;32m     42\u001b[0m \u001b[0;32mdef\u001b[0m \u001b[0mhidden_character\u001b[0m\u001b[0;34m(\u001b[0m\u001b[0mtext\u001b[0m\u001b[0;34m)\u001b[0m\u001b[0;34m:\u001b[0m\u001b[0;34m\u001b[0m\u001b[0;34m\u001b[0m\u001b[0m\n\u001b[0;32m---> 43\u001b[0;31m   \u001b[0mtext\u001b[0m \u001b[0;34m=\u001b[0m \u001b[0mre\u001b[0m\u001b[0;34m.\u001b[0m\u001b[0msub\u001b[0m\u001b[0;34m(\u001b[0m\u001b[0;34m\"[^{}]+\"\u001b[0m\u001b[0;34m.\u001b[0m\u001b[0mformat\u001b[0m\u001b[0;34m(\u001b[0m\u001b[0mprintable\u001b[0m\u001b[0;34m)\u001b[0m\u001b[0;34m,\u001b[0m \u001b[0;34m\" \"\u001b[0m\u001b[0;34m,\u001b[0m \u001b[0mtext\u001b[0m\u001b[0;34m)\u001b[0m\u001b[0;34m\u001b[0m\u001b[0;34m\u001b[0m\u001b[0m\n\u001b[0m\u001b[1;32m     44\u001b[0m   \u001b[0mtext\u001b[0m \u001b[0;34m=\u001b[0m \u001b[0mre\u001b[0m\u001b[0;34m.\u001b[0m\u001b[0msub\u001b[0m\u001b[0;34m(\u001b[0m\u001b[0;34m'  +'\u001b[0m\u001b[0;34m,\u001b[0m\u001b[0;34m' '\u001b[0m\u001b[0;34m,\u001b[0m\u001b[0mtext\u001b[0m\u001b[0;34m)\u001b[0m\u001b[0;34m.\u001b[0m\u001b[0mstrip\u001b[0m\u001b[0;34m(\u001b[0m\u001b[0;34m)\u001b[0m\u001b[0;34m\u001b[0m\u001b[0;34m\u001b[0m\u001b[0m\n\u001b[1;32m     45\u001b[0m   \u001b[0;32mreturn\u001b[0m \u001b[0mtext\u001b[0m\u001b[0;34m\u001b[0m\u001b[0;34m\u001b[0m\u001b[0m\n",
            "\u001b[0;31mNameError\u001b[0m: name 'printable' is not defined"
          ]
        }
      ]
    },
    {
      "cell_type": "code",
      "metadata": {
        "id": "KlKddlfdbepH"
      },
      "source": [
        "# print(train.shape,dev.shape,test.shape)\n",
        "# dev = dev.drop_duplicates(keep='last').dropna().reset_index(drop=True)\n",
        "# train = train.drop_duplicates(keep='last').dropna().reset_index(drop=True)\n",
        "# print(train.shape,dev.shape,test.shape)"
      ],
      "execution_count": null,
      "outputs": []
    },
    {
      "cell_type": "code",
      "metadata": {
        "id": "sL51XS1JU9Qu"
      },
      "source": [
        "# vocab = create_vocab(train)\n",
        "# print(len(vocab))\n",
        "# vocab.to_csv('preprocessed_data/vocab.csv')"
      ],
      "execution_count": null,
      "outputs": []
    },
    {
      "cell_type": "markdown",
      "metadata": {
        "id": "R0R-cRjKHlSs"
      },
      "source": [
        "##Save dataset"
      ]
    },
    {
      "cell_type": "code",
      "metadata": {
        "id": "hhgWdW7uHnH6"
      },
      "source": [
        "train.to_csv(\"preprocessed_data/train.csv\")\n",
        "dev.to_csv(\"preprocessed_data/dev.csv\")\n",
        "test.to_csv(\"preprocessed_data/test.csv\")"
      ],
      "execution_count": null,
      "outputs": []
    },
    {
      "cell_type": "markdown",
      "metadata": {
        "id": "EsBzaApwIWRX"
      },
      "source": [
        "#Training"
      ]
    },
    {
      "cell_type": "markdown",
      "metadata": {
        "id": "a5pXm2JNHB7q"
      },
      "source": [
        "##Load dataset"
      ]
    },
    {
      "cell_type": "code",
      "metadata": {
        "id": "Wr7fEGYPBbON"
      },
      "source": [
        "preprocessed_train = pd.read_csv(\"preprocessed_data/train.csv\")\n",
        "preprocessed_dev = pd.read_csv(\"preprocessed_data/dev.csv\")\n",
        "preprocessed_test = pd.read_csv(\"preprocessed_data/test.csv\")"
      ],
      "execution_count": null,
      "outputs": []
    },
    {
      "cell_type": "code",
      "metadata": {
        "id": "S2Y4XRHyB6KC"
      },
      "source": [
        "X_train = preprocessed_train['free_text']\n",
        "y_train = preprocessed_train['label_id'].values\n",
        "\n",
        "X_dev = preprocessed_dev['free_text']\n",
        "y_dev = preprocessed_dev['label_id'].values\n",
        "\n",
        "X_test = preprocessed_test['free_text']\n",
        "y_test = preprocessed_test['label_id'].values"
      ],
      "execution_count": null,
      "outputs": []
    },
    {
      "cell_type": "markdown",
      "metadata": {
        "id": "RVve9S6l30gK"
      },
      "source": [
        "##ML"
      ]
    },
    {
      "cell_type": "markdown",
      "metadata": {
        "id": "thTBwcMetBWx"
      },
      "source": [
        "## BOW"
      ]
    },
    {
      "cell_type": "code",
      "metadata": {
        "id": "C2LOn6igtEQy"
      },
      "source": [
        "import pandas as pd\n",
        "from sklearn.feature_extraction.text import CountVectorizer, TfidfVectorizer\n",
        "X_train = pd.concat([X_train, X_dev], ignore_index=True)\n",
        "y_train = np.concatenate((y_train,y_dev),axis = 0)\n",
        "CountVec = CountVectorizer(ngram_range=(1,5),max_features=len(vocab))\n",
        "X_train = CountVec.fit_transform(X_train.values.astype('U'))\n",
        "X_test = CountVec.transform(X_test.values.astype('U'))"
      ],
      "execution_count": null,
      "outputs": []
    },
    {
      "cell_type": "markdown",
      "metadata": {
        "id": "mPVUhNaGs_G9"
      },
      "source": [
        "## TF-IDF"
      ]
    },
    {
      "cell_type": "code",
      "metadata": {
        "id": "wBYcL7lz_PaK"
      },
      "source": [
        "X_train = pd.concat([X_train, X_dev], ignore_index=True)\n",
        "y_train = np.concatenate((y_train,y_dev),axis = 0)\n",
        "Tfidf_vect = TfidfVectorizer(max_features=len(vocab))\n",
        "X_train = Tfidf_vect.fit_transform(X_train.values.astype('U'))\n",
        "X_test = Tfidf_vect.transform(X_test.values.astype('U'))"
      ],
      "execution_count": null,
      "outputs": []
    },
    {
      "cell_type": "markdown",
      "metadata": {
        "id": "gpMB69NXucZ3"
      },
      "source": [
        "## Find best hyperparameter"
      ]
    },
    {
      "cell_type": "markdown",
      "metadata": {
        "id": "ZaMFwJlmuhzI"
      },
      "source": [
        "###LR"
      ]
    },
    {
      "cell_type": "code",
      "metadata": {
        "id": "pAd_TDgn7Ych"
      },
      "source": [
        "from sklearn.model_selection import GridSearchCV\n",
        "from sklearn.metrics import fbeta_score, make_scorer\n",
        "param_grid = {  'C': [ 0.1, 1, 10, 100],\n",
        "              \"penalty\":[\"l1\",\"l2\"]\n",
        "              }\n",
        "clf = LogisticRegression()#class_weight = 'balanced')\n",
        "\n",
        "scoring =make_scorer(f1_score, average='macro')\n",
        "g_search = GridSearchCV(estimator = clf, param_grid = param_grid, \n",
        "                        cv = 5, \n",
        "                        # n_jobs = 1, \n",
        "                        # verbose = 0, \n",
        "                        return_train_score=True,\n",
        "                        scoring = scoring\n",
        "                        )\n",
        "g_search.fit(X_train, y_train)\n",
        "\n",
        "print(g_search.best_params_)"
      ],
      "execution_count": null,
      "outputs": []
    },
    {
      "cell_type": "markdown",
      "metadata": {
        "id": "AKIKDZM0ukAw"
      },
      "source": [
        "###SVM"
      ]
    },
    {
      "cell_type": "code",
      "metadata": {
        "id": "cJ_NLXIe7oBe"
      },
      "source": [
        "# parameters = {'kernel':['linear', 'rbf'], \n",
        "#               'C':[1, 10, 100,1000,10000],\n",
        "#               'gamma': [10,1, 0.1, 0.01, 0.001],\n",
        "#               }\n",
        "# svc = svm.SVC()\n",
        "# scoring =make_scorer(f1_score, average='macro')\n",
        "# g_search = GridSearchCV(svc, parameters,scoring=scoring,cv = 5, \n",
        "#                         # n_jobs = 1, \n",
        "#                         # verbose = 0, \n",
        "#                         return_train_score=True,)\n",
        "# g_search.fit(X_train, y_train)\n",
        "# print(g_search.best_params_)\n"
      ],
      "execution_count": null,
      "outputs": []
    },
    {
      "cell_type": "markdown",
      "metadata": {
        "id": "R-lHMuBFu6uo"
      },
      "source": [
        "##LR"
      ]
    },
    {
      "cell_type": "code",
      "metadata": {
        "id": "a8VSyOEC50QP"
      },
      "source": [
        "# SVM = svm.SVC(C=100, kernel='rbf', gamma=0.01).fit(X_train, y_train)\n",
        "# y_pred = SVM.predict(X_test)\n",
        "# print(classification_report(y_pred, y_test, digits = 4))\n",
        "clf = LogisticRegression(C=10, penalty= 'l2').fit(X_train, y_train)\n",
        "y_pred = clf.predict(X_test)\n",
        "print(classification_report(y_pred, y_test, digits = 4))"
      ],
      "execution_count": null,
      "outputs": []
    },
    {
      "cell_type": "markdown",
      "metadata": {
        "id": "cNnVWaWfu9Be"
      },
      "source": [
        "##SVM"
      ]
    },
    {
      "cell_type": "markdown",
      "metadata": {
        "id": "GiKThsAjuykM"
      },
      "source": [
        "##Find best max-features"
      ]
    },
    {
      "cell_type": "code",
      "metadata": {
        "id": "EQvM6BlObZON"
      },
      "source": [
        "# for max_features in range(10000, len(vocab),2000):\n",
        "#   print('max_features',max_features)\n",
        "#   X_train = train['free_text']\n",
        "#   y_train = train['label_id'].values\n",
        "#   X_dev = dev['free_text']\n",
        "#   y_dev = dev['label_id'].values\n",
        "#   X_test = test['free_text']\n",
        "#   y_test = test['label_id'].values\n",
        "#   X_train = pd.concat([X_train, X_dev], ignore_index=True)\n",
        "#   y_train = np.concatenate((y_train,y_dev),axis = 0)\n",
        "#   Tfidf_vect = TfidfVectorizer(max_features=max_features)\n",
        "#   X_train = Tfidf_vect.fit_transform(X_train.values.astype('U'))\n",
        "#   X_test = Tfidf_vect.transform(X_test.values.astype('U'))\n",
        "#   SVM = svm.SVC(C=10, kernel='linear', degree=3, gamma='auto')\n",
        "#   SVM.fit(X_train, y_train)\n",
        "#   y_pred = SVM.predict(X_test)\n",
        "#   print(classification_report(y_pred, y_test, digits = 4))\n",
        "#   clf = LogisticRegression(random_state=0,class_weight = 'balanced').fit(X_train, y_train)\n",
        "#   y_pred = clf.predict(X_test)\n",
        "#   print(classification_report(y_pred, y_test, digits = 4))"
      ],
      "execution_count": null,
      "outputs": []
    },
    {
      "cell_type": "code",
      "metadata": {
        "id": "Aj9EOyzoQg-p"
      },
      "source": [
        "#0.5706 0.6042 lower + tokenize\n",
        "#0.5710 58.81 replace url to <url>\n",
        "#0.0.6033  0.0.6052      "
      ],
      "execution_count": null,
      "outputs": []
    },
    {
      "cell_type": "markdown",
      "metadata": {
        "id": "IQYxYbUvHKWW"
      },
      "source": [
        "##Bert multi case"
      ]
    },
    {
      "cell_type": "code",
      "metadata": {
        "id": "_Ik4BlBP9sLV"
      },
      "source": [
        "class BuildDataset(torch.utils.data.Dataset):\n",
        "\n",
        "    def __init__(self, tokenizer, X, y, max_len):\n",
        "        self.tokenizer = tokenizer\n",
        "        self.comment_text = X\n",
        "        self.targets = y\n",
        "        self.max_len = max_len\n",
        "\n",
        "    def __len__(self):\n",
        "        return len(self.comment_text)\n",
        "\n",
        "    def __getitem__(self, index):\n",
        "        comment_text = str(self.comment_text[index])\n",
        "        comment_text = \" \".join(comment_text.split())\n",
        "        inputs = self.tokenizer.encode_plus(\n",
        "            comment_text,\n",
        "            None,\n",
        "            add_special_tokens=True,\n",
        "            max_length=self.max_len,\n",
        "            padding=True,\n",
        "            truncation=True,\n",
        "            return_token_type_ids=True\n",
        "        )\n",
        "        ids = inputs['input_ids']\n",
        "        mask = inputs['attention_mask']\n",
        "        return {\n",
        "            'input_ids': torch.tensor(ids, dtype=torch.long),\n",
        "            'attention_mask': torch.tensor(mask, dtype=torch.long),\n",
        "            'labels': torch.tensor(self.targets[index], dtype=torch.long)\n",
        "        }\n"
      ],
      "execution_count": null,
      "outputs": []
    },
    {
      "cell_type": "code",
      "metadata": {
        "id": "oOYlEHxQmgOx"
      },
      "source": [
        "def compute_metrics(p):    \n",
        "    pred, labels = p\n",
        "    pred = np.argmax(pred, axis=1)\n",
        "    accuracy = accuracy_score(y_true=labels, y_pred=pred)\n",
        "    recall = recall_score(y_true=labels, y_pred=pred, average='macro')\n",
        "    precision = precision_score(y_true=labels, y_pred=pred, average='macro')\n",
        "    f1 = f1_score(y_true=labels, y_pred=pred, average='macro')\n",
        "    return {\"accuracy\": accuracy, \"precision\": precision, \"recall\": recall, \"f1\": f1} "
      ],
      "execution_count": null,
      "outputs": []
    },
    {
      "cell_type": "code",
      "metadata": {
        "id": "OZ5vwcix9vDb"
      },
      "source": [
        "model_checkpoint = 'bert-base-multilingual-cased'\n",
        "model = AutoModelForSequenceClassification.from_pretrained(model_checkpoint,num_labels=3)\n",
        "tokenizer = BertTokenizer.from_pretrained(model_checkpoint)\n",
        "# Chuan bi data\n",
        "MAX_LEN = 100\n",
        "training_set = BuildDataset(tokenizer, X_train, y_train, max_len = MAX_LEN)\n",
        "test_set = BuildDataset(tokenizer,  X_test, y_test, max_len = MAX_LEN)\n",
        "dev_set = BuildDataset(tokenizer,  X_dev, y_dev, max_len = MAX_LEN)"
      ],
      "execution_count": null,
      "outputs": []
    },
    {
      "cell_type": "code",
      "metadata": {
        "id": "G6UljkhAvGT-"
      },
      "source": [
        "#  torch.cuda.memory_summary(device=None, abbreviated=False)"
      ],
      "execution_count": null,
      "outputs": []
    },
    {
      "cell_type": "code",
      "metadata": {
        "id": "GqbBB0ALFic3"
      },
      "source": [
        "# Chuan bi mo hinh\n",
        "data_collator = DataCollatorWithPadding(tokenizer)\n",
        "training_args = TrainingArguments(\n",
        "    output_dir='/results',          \n",
        "    num_train_epochs = 8,              \n",
        "    per_device_train_batch_size=64,\n",
        "    per_device_eval_batch_size=32,\n",
        "    learning_rate = 1e-5,  \n",
        "    warmup_steps=1000,   \n",
        "    save_steps=1000,         \n",
        "    weight_decay=0.01,\n",
        "    logging_dir = '/logs',\n",
        "    evaluation_strategy ='steps',\n",
        "    eval_steps = 500,\n",
        "    save_total_limit = 5,\n",
        "    load_best_model_at_end=True,\n",
        ")\n",
        "\n",
        "trainer = Trainer(\n",
        "    model=model,                         \n",
        "    args=training_args, \n",
        "    data_collator =data_collator,                 \n",
        "    train_dataset=training_set,         \n",
        "    eval_dataset=dev_set,\n",
        "    tokenizer=tokenizer,\n",
        "    compute_metrics=compute_metrics,\n",
        "    callbacks=[EarlyStoppingCallback(early_stopping_patience=3)],\n",
        ")\n",
        "trainer.train()"
      ],
      "execution_count": null,
      "outputs": []
    },
    {
      "cell_type": "markdown",
      "metadata": {
        "id": "WyJFLTejHPj8"
      },
      "source": [
        "###Predict"
      ]
    },
    {
      "cell_type": "code",
      "metadata": {
        "id": "y-O7aR4nTCqs"
      },
      "source": [
        "trainer.evaluate()\n",
        "model_path = \"multi-bert-base-cased\"\n",
        "model.save_pretrained(model_path)\n",
        "tokenizer.save_pretrained(model_path)\n",
        "model = AutoModelForSequenceClassification.from_pretrained(model_path, num_labels=3)\n",
        "tokenizer = BertTokenizer.from_pretrained(model_path)\n",
        "predictions, label_ids ,metrics =trainer.predict(test_set)\n",
        "y_pred = np.argmax(predictions, axis=1)\n",
        "print(classification_report( y_test, y_pred, digits = 4))"
      ],
      "execution_count": null,
      "outputs": []
    },
    {
      "cell_type": "code",
      "metadata": {
        "id": "kHDA-aUwTkRS"
      },
      "source": [
        "def get_prediction(text):\n",
        "    inputs = tokenizer(text, padding=True, truncation=True, max_length=MAX_LEN, return_tensors=\"pt\")#.to(\"cuda\")\n",
        "    outputs = model(**inputs)\n",
        "    probs = outputs[0].softmax(1)\n",
        "    return int(probs.argmax())\n",
        "text = \"thằng chó mất dạy, cmm nhá, vl, dmcs\"\n",
        "print(get_prediction(text))"
      ],
      "execution_count": null,
      "outputs": []
    },
    {
      "cell_type": "markdown",
      "metadata": {
        "id": "JrWHfeErXEv0"
      },
      "source": [
        "##Bert multi uncased"
      ]
    },
    {
      "cell_type": "code",
      "metadata": {
        "id": "iW2_80xstYns"
      },
      "source": [
        "model_checkpoint = 'bert-base-multilingual-uncased'\n",
        "model = AutoModelForSequenceClassification.from_pretrained(model_checkpoint,num_labels=3)\n",
        "tokenizer = BertTokenizer.from_pretrained(model_checkpoint)\n",
        "# Chuan bi data\n",
        "MAX_LEN = 100\n",
        "training_set = BuildDataset(tokenizer, X_train, y_train, max_len = MAX_LEN)\n",
        "test_set = BuildDataset(tokenizer,  X_test, y_test, max_len = MAX_LEN)\n",
        "dev_set = BuildDataset(tokenizer,  X_dev, y_dev, max_len = MAX_LEN)"
      ],
      "execution_count": null,
      "outputs": []
    },
    {
      "cell_type": "code",
      "metadata": {
        "id": "5DjO0ELktLOd"
      },
      "source": [
        "# Chuan bi mo hinh\n",
        "data_collator = DataCollatorWithPadding(tokenizer)\n",
        "training_args = TrainingArguments(\n",
        "    output_dir='/results',          \n",
        "    num_train_epochs = 8,              \n",
        "    per_device_train_batch_size=64 ,\n",
        "    per_device_eval_batch_size=32,\n",
        "    learning_rate = 1e-5,  \n",
        "    warmup_steps=1000,   \n",
        "    save_steps=1000,         \n",
        "    weight_decay=0.01,\n",
        "    logging_dir = '/logs',\n",
        "    evaluation_strategy ='steps',\n",
        "    eval_steps = 500,\n",
        "    save_total_limit = 5,\n",
        "    load_best_model_at_end=True,\n",
        ")\n",
        "\n",
        "trainer = Trainer(\n",
        "    model=model,                         \n",
        "    args=training_args, \n",
        "    data_collator =data_collator,                 \n",
        "    train_dataset=training_set,         \n",
        "    eval_dataset=dev_set,\n",
        "    tokenizer=tokenizer,\n",
        "    compute_metrics=compute_metrics,\n",
        "    callbacks=[EarlyStoppingCallback(early_stopping_patience=3)],\n",
        ")\n",
        "trainer.train()"
      ],
      "execution_count": null,
      "outputs": []
    },
    {
      "cell_type": "code",
      "metadata": {
        "id": "PgZXGtBxtL45"
      },
      "source": [
        "trainer.evaluate()\n",
        "model_path = \"multi-bert-base-uncased\"\n",
        "model.save_pretrained(model_path)\n",
        "tokenizer.save_pretrained(model_path)\n",
        "model = AutoModelForSequenceClassification.from_pretrained(model_path, num_labels=3)\n",
        "tokenizer = BertTokenizer.from_pretrained(model_path)\n",
        "predictions, label_ids ,metrics =trainer.predict(test_set)\n",
        "y_pred = np.argmax(predictions, axis=1)\n",
        "print(f1_score(label_ids, y_pred, average='macro'))\n",
        "print(accuracy_score(label_ids, y_pred))"
      ],
      "execution_count": null,
      "outputs": []
    },
    {
      "cell_type": "code",
      "metadata": {
        "id": "Vdqj5_Mytn8i"
      },
      "source": [
        "def get_prediction(text):\n",
        "    inputs = tokenizer(text, padding=True, truncation=True, max_length=MAX_LEN, return_tensors=\"pt\")#.to(\"cuda\")\n",
        "    outputs = model(**inputs)\n",
        "    probs = outputs[0].softmax(1)\n",
        "    return int(probs.argmax())\n",
        "text = \"thằng chó mất dạy, cmm nhá, vl, dmcs\"\n",
        "print(get_prediction(text))"
      ],
      "execution_count": null,
      "outputs": []
    },
    {
      "cell_type": "markdown",
      "metadata": {
        "id": "_aIv_H2wqt4_"
      },
      "source": [
        "## h"
      ]
    },
    {
      "cell_type": "code",
      "metadata": {
        "id": "Y55DsawJq5yT"
      },
      "source": [
        "re.sub('[^!-~]+',' ','trời đang dần sáng @# !').strip()"
      ],
      "execution_count": null,
      "outputs": []
    },
    {
      "cell_type": "markdown",
      "metadata": {
        "id": "vksI6LCoqw6Y"
      },
      "source": [
        ""
      ]
    }
  ]
}